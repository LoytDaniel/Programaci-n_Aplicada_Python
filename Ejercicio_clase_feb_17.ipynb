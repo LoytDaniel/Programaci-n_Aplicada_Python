{
  "nbformat": 4,
  "nbformat_minor": 0,
  "metadata": {
    "colab": {
      "provenance": [],
      "authorship_tag": "ABX9TyNB5FHfrDgjhaD7WT7942Oe",
      "include_colab_link": true
    },
    "kernelspec": {
      "name": "python3",
      "display_name": "Python 3"
    },
    "language_info": {
      "name": "python"
    }
  },
  "cells": [
    {
      "cell_type": "markdown",
      "metadata": {
        "id": "view-in-github",
        "colab_type": "text"
      },
      "source": [
        "<a href=\"https://colab.research.google.com/github/LoytDaniel/Programaci-n_Aplicada_Python/blob/main/Ejercicio_clase_feb_17.ipynb\" target=\"_parent\"><img src=\"https://colab.research.google.com/assets/colab-badge.svg\" alt=\"Open In Colab\"/></a>"
      ]
    },
    {
      "cell_type": "markdown",
      "source": [
        "Funcionamiento de `txt.zfill(x)`\n",
        "\n"
      ],
      "metadata": {
        "id": "rlcdU4w8PJwF"
      }
    },
    {
      "cell_type": "code",
      "source": [
        "txt=\"50\"\n",
        "x=txt.zfill(10)\n",
        "print (x)"
      ],
      "metadata": {
        "colab": {
          "base_uri": "https://localhost:8080/"
        },
        "id": "oMxQmPNsPJUW",
        "outputId": "4b2db46b-b78a-4abd-cbf1-d3d31d26c4bd"
      },
      "execution_count": 2,
      "outputs": [
        {
          "output_type": "stream",
          "name": "stdout",
          "text": [
            "0000000050\n"
          ]
        }
      ]
    },
    {
      "cell_type": "markdown",
      "source": [
        "Usando `len`, `+`, `*`\n",
        "Hacer lo mismo que `txt.zfill(x)`, con `x=10`"
      ],
      "metadata": {
        "id": "b4PQc9miOjHu"
      }
    },
    {
      "cell_type": "code",
      "execution_count": 1,
      "metadata": {
        "colab": {
          "base_uri": "https://localhost:8080/",
          "height": 52
        },
        "id": "DYrYrfgzOakW",
        "outputId": "236ecd04-2ff0-4784-9d69-2d89040ac644"
      },
      "outputs": [
        {
          "name": "stdout",
          "output_type": "stream",
          "text": [
            "Escriba un numero: 10\n"
          ]
        },
        {
          "output_type": "execute_result",
          "data": {
            "text/plain": [
              "'0000000050'"
            ],
            "application/vnd.google.colaboratory.intrinsic+json": {
              "type": "string"
            }
          },
          "metadata": {},
          "execution_count": 1
        }
      ],
      "source": [
        "txt=\"50\"\n",
        "x=int(input(\"Escriba un numero: \"))  # debe de ser 10\n",
        "a=len(txt)\n",
        "resta=x-a\n",
        "resta\n",
        "\"0\"*resta+ txt"
      ]
    }
  ]
}